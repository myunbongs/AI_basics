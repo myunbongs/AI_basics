{
 "cells": [
  {
   "cell_type": "markdown",
   "metadata": {},
   "source": [
    "### 라이브러리 불러오깅"
   ]
  },
  {
   "cell_type": "code",
   "execution_count": 13,
   "metadata": {},
   "outputs": [],
   "source": [
    "import numpy as np"
   ]
  },
  {
   "cell_type": "markdown",
   "metadata": {},
   "source": [
    "### 프린트"
   ]
  },
  {
   "cell_type": "code",
   "execution_count": 14,
   "metadata": {
    "scrolled": true
   },
   "outputs": [
    {
     "name": "stdout",
     "output_type": "stream",
     "text": [
      "Hello, world\n",
      "정수: 3, 03, 003, 0003, 00003\n",
      "실수: 256, 256.1, 256.12\n",
      "문자열 : [Hello, World]\n"
     ]
    }
   ],
   "source": [
    "print(\"Hello, world\")\n",
    "\n",
    "x = 3\n",
    "print(\"정수: %01d, %02d, %03d, %04d, %05d\" % (x,x,x,x,x))\n",
    "\n",
    "x = 256.123\n",
    "print(\"실수: %.0f, %.1f, %.2f\" % (x,x,x))\n",
    "\n",
    "x = \"Hello, World\"\n",
    "print(\"문자열 : [%s]\" % (x))\n"
   ]
  },
  {
   "cell_type": "markdown",
   "metadata": {},
   "source": [
    "### 반복문, 조건문"
   ]
  },
  {
   "cell_type": "code",
   "execution_count": 19,
   "metadata": {},
   "outputs": [
    {
     "name": "stdout",
     "output_type": "stream",
     "text": [
      "a 은(는) 알파벳 소문자입니다.\n",
      "b 은(는) 알파벳 소문자입니다.\n",
      "c 은(는) 알파벳 소문자입니다.\n",
      "D 은(는) 알파벳 대문자입니다.\n",
      "E 은(는) 알파벳 대문자입니다.\n",
      "F 은(는) 알파벳 대문자입니다.\n",
      "! 은(는) 느낌표입니다.\n"
     ]
    }
   ],
   "source": [
    "contents = [ \"a\", \"b\", \"c\", \"D\", \"E\", \"F\", \"!\" ]\n",
    "for con in contents:\n",
    "    if con in [\"a\", \"b\", \"c\"]:\n",
    "        print(\"%s 은(는) 알파벳 소문자입니다.\" %con )\n",
    "    elif con in [\"!\"]:\n",
    "        print(\"%s 은(는) 느낌표입니다.\" %con )\n",
    "    else:\n",
    "        print (\"%s 은(는) 알파벳 대문자입니다.\" %con )\n",
    "        "
   ]
  },
  {
   "cell_type": "markdown",
   "metadata": {},
   "source": [
    "### 반복문과 인덱스"
   ]
  },
  {
   "cell_type": "code",
   "execution_count": 20,
   "metadata": {},
   "outputs": [
    {
     "name": "stdout",
     "output_type": "stream",
     "text": [
      "[0/7]: a\n",
      "[1/7]: b\n",
      "[2/7]: c\n",
      "[3/7]: D\n",
      "[4/7]: E\n",
      "[5/7]: F\n",
      "[6/7]: !\n"
     ]
    }
   ],
   "source": [
    "for (i, con) in enumerate(contents):\n",
    "    print (\"[%d/%d]: %s\" %(i, len(contents), con))"
   ]
  },
  {
   "cell_type": "markdown",
   "metadata": {},
   "source": [
    "### 함수"
   ]
  },
  {
   "cell_type": "code",
   "execution_count": 21,
   "metadata": {},
   "outputs": [
    {
     "name": "stdout",
     "output_type": "stream",
     "text": [
      "10.0 + 20.0 = 30.0\n"
     ]
    }
   ],
   "source": [
    "def sum(a, b):\n",
    "    return a+b\n",
    "\n",
    "x = 10.0\n",
    "y = 20.0\n",
    "\n",
    "print (\"%.1f + %.1f = %.1f\" %(x, y, sum(x,y)))"
   ]
  },
  {
   "cell_type": "markdown",
   "metadata": {},
   "source": [
    "### 리스트"
   ]
  },
  {
   "cell_type": "code",
   "execution_count": 24,
   "metadata": {},
   "outputs": [
    {
     "name": "stdout",
     "output_type": "stream",
     "text": [
      "[]\n",
      "['a']\n",
      "['a', 123]\n",
      "['a', 123, ['a', 'b']]\n"
     ]
    }
   ],
   "source": [
    "a = []\n",
    "b = [ 1, 2, 3 ]\n",
    "c = [ \"Hello\", \" , \", \"world\"]\n",
    "d = [ 1, 2, 3, \"x\", \"y\", \"z\"]\n",
    "x =[]\n",
    "print (x)\n",
    "x.append('a')\n",
    "print(x)\n",
    "x.append(123)\n",
    "print(x)\n",
    "x.append([\"a\", \"b\"])\n",
    "print x"
   ]
  },
  {
   "cell_type": "markdown",
   "metadata": {},
   "source": [
    "### 딕셔너리(dictionary)"
   ]
  },
  {
   "cell_type": "code",
   "execution_count": 26,
   "metadata": {},
   "outputs": [
    {
     "name": "stdout",
     "output_type": "stream",
     "text": [
      "{'town': 'Chungjusi', 'job': 'student', 'name': 'Hyunbin'}\n"
     ]
    }
   ],
   "source": [
    "dic = dict()\n",
    "dic[\"name\"] = \"Hyunbin\"\n",
    "dic[\"town\"] = \"Chungjusi\"\n",
    "dic[\"job\"] = \"student\"\n",
    "print dic"
   ]
  },
  {
   "cell_type": "markdown",
   "metadata": {},
   "source": [
    "### 클래스"
   ]
  },
  {
   "cell_type": "code",
   "execution_count": 28,
   "metadata": {},
   "outputs": [
    {
     "name": "stdout",
     "output_type": "stream",
     "text": [
      "Hyunbin 학생은 공부 중\n",
      "Hyunbin 학생은 열심히 공부 중\n"
     ]
    }
   ],
   "source": [
    "class Student:\n",
    "    def __init__(self, name):\n",
    "        self.name = name\n",
    "    \n",
    "    def study(self, hard=False):\n",
    "        if hard:\n",
    "            print \"%s 학생은 열심히 공부 중\" %self.name\n",
    "        else:\n",
    "            print \"%s 학생은 공부 중\" %self.name\n",
    "s = Student(\"Hyunbin\")\n",
    "s.study()\n",
    "s.study(hard=True)"
   ]
  }
 ],
 "metadata": {
  "kernelspec": {
   "display_name": "conda_pytorch_p27",
   "language": "python",
   "name": "conda_pytorch_p27"
  },
  "language_info": {
   "codemirror_mode": {
    "name": "ipython",
    "version": 2
   },
   "file_extension": ".py",
   "mimetype": "text/x-python",
   "name": "python",
   "nbconvert_exporter": "python",
   "pygments_lexer": "ipython2",
   "version": "2.7.17"
  }
 },
 "nbformat": 4,
 "nbformat_minor": 4
}
